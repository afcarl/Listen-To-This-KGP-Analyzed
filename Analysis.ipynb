{
 "cells": [
  {
   "cell_type": "code",
   "execution_count": 104,
   "metadata": {},
   "outputs": [],
   "source": [
    "import csv\n",
    "file=open(\"1488511748129645_facebook_statuses.csv\", \"r\")\n",
    "reader = csv.reader(file)\n",
    "data = []\n",
    "for line in reader:\n",
    "    data.append(line)\n",
    "\n",
    "header = data[0]\n",
    "data = data[1:]"
   ]
  },
  {
   "cell_type": "code",
   "execution_count": 105,
   "metadata": {},
   "outputs": [
    {
     "name": "stdout",
     "output_type": "stream",
     "text": [
      "333 4617\n"
     ]
    }
   ],
   "source": [
    "to_remove = []\n",
    "\n",
    "# simple check to verify the song is on youtube\n",
    "for row in data:\n",
    "    if (not 'youtu' in row[6]):\n",
    "        to_remove.append(row)\n",
    "\n",
    "print (len(to_remove), len(data))\n",
    "# print (to_remove)\n",
    "# row[3][1:-1]"
   ]
  },
  {
   "cell_type": "code",
   "execution_count": 106,
   "metadata": {},
   "outputs": [
    {
     "data": {
      "text/plain": [
       "4284"
      ]
     },
     "execution_count": 106,
     "metadata": {},
     "output_type": "execute_result"
    }
   ],
   "source": [
    "youtube_data = [a for a in data if a not in to_remove]\n",
    "len(youtube_data)"
   ]
  },
  {
   "cell_type": "code",
   "execution_count": 107,
   "metadata": {},
   "outputs": [],
   "source": [
    "# print (youtube_data)"
   ]
  },
  {
   "cell_type": "code",
   "execution_count": 108,
   "metadata": {},
   "outputs": [],
   "source": [
    "# Get video id\n",
    "def parse_yt_url(url):\n",
    "    if(\"youtube.com/watch?v\" in url):\n",
    "        return url.split(\"?v=\")[1][:11]\n",
    "    elif(\"youtube.com/attribution_link?\" in url):\n",
    "        return url.split(\"%3D\")[1][:11]\n",
    "    elif(\"v=\" in url):\n",
    "        return url.split(\"v=\")[-1][:11]\n",
    "    elif (\"youtu.be\" in url):\n",
    "        return url.split(\"/\")[-1][:11]\n",
    "    else:\n",
    "        return \"-1\""
   ]
  },
  {
   "cell_type": "code",
   "execution_count": 109,
   "metadata": {},
   "outputs": [],
   "source": [
    "songs_dict = {} # contains 'video id' as key and number of times it has been posted as value\n",
    "unparsed = []\n",
    "for row in youtube_data:\n",
    "    parsed = parse_yt_url(row[6])\n",
    "    if (not parsed == \"-1\"):\n",
    "        try:\n",
    "            songs_dict[parsed] += 1\n",
    "        except Exception as e:\n",
    "            songs_dict[parsed] = 1\n",
    "    else:\n",
    "        unparsed.append(row)"
   ]
  },
  {
   "cell_type": "code",
   "execution_count": 110,
   "metadata": {},
   "outputs": [
    {
     "data": {
      "text/plain": [
       "3854"
      ]
     },
     "execution_count": 110,
     "metadata": {},
     "output_type": "execute_result"
    }
   ],
   "source": [
    "len(songs_dict)"
   ]
  },
  {
   "cell_type": "code",
   "execution_count": 111,
   "metadata": {},
   "outputs": [
    {
     "data": {
      "text/plain": [
       "18"
      ]
     },
     "execution_count": 111,
     "metadata": {},
     "output_type": "execute_result"
    }
   ],
   "source": [
    "len(unparsed)"
   ]
  },
  {
   "cell_type": "code",
   "execution_count": 112,
   "metadata": {},
   "outputs": [
    {
     "data": {
      "text/plain": [
       "4284"
      ]
     },
     "execution_count": 112,
     "metadata": {},
     "output_type": "execute_result"
    }
   ],
   "source": [
    "len(youtube_data)"
   ]
  },
  {
   "cell_type": "code",
   "execution_count": 113,
   "metadata": {},
   "outputs": [],
   "source": [
    "import operator\n",
    "sorted_songs = sorted(songs_dict.items(), key=operator.itemgetter(1))"
   ]
  },
  {
   "cell_type": "code",
   "execution_count": 114,
   "metadata": {},
   "outputs": [
    {
     "name": "stdout",
     "output_type": "stream",
     "text": [
      "www.youtube.com/watch?v=fV4DiAyExN0   7\n",
      "www.youtube.com/watch?v=msuf-V1inOY   5\n",
      "www.youtube.com/watch?v=adV8-_hgL4g   5\n",
      "www.youtube.com/watch?v=4zLfCnGVeL4   5\n",
      "www.youtube.com/watch?v=zLAhRiUeJ8E   4\n",
      "www.youtube.com/watch?v=4Js-XbNj6Tk   4\n",
      "www.youtube.com/watch?v=u9Dg-g7t2l4   4\n",
      "www.youtube.com/watch?v=Kp7eSUU9oy8   4\n",
      "www.youtube.com/watch?v=pBkHHoOIIn8   4\n",
      "www.youtube.com/watch?v=8Pa9x9fZBtY   4\n"
     ]
    }
   ],
   "source": [
    "# Top N posted songs\n",
    "N = 10\n",
    "for song in reversed(sorted_songs[-N:]):\n",
    "    print (\"www.youtube.com/watch?v=\" + str(song[0]), \" \", song[1])"
   ]
  },
  {
   "cell_type": "code",
   "execution_count": 115,
   "metadata": {},
   "outputs": [],
   "source": [
    "for row in youtube_data:\n",
    "    break"
   ]
  },
  {
   "cell_type": "code",
   "execution_count": 116,
   "metadata": {},
   "outputs": [
    {
     "name": "stdout",
     "output_type": "stream",
     "text": [
      "['1488511748129645_1918799288434220', 'Total Eargasm.', 'Prachurjya Biswas', \"'1749888931717491'\", '1. Freed - Danny Elfman | Fifty Shades Freed (Original Motion Picture Score)', 'video', 'https://www.youtube.com/attribution_link?a=a_uH1y1HAII&u=%2Fwatch%3Fv%3DUd2EK0ZslwI%26feature%3Dshare', '2018-02-15 13:11:09', '3', '1', '0', '1', '1', '1', '0', '0', '0', '0', \"[{u'type': u'LIKE', u'id': u'428514417569231', u'name': u'Barun Das'}, {u'type': u'LOVE', u'id': u'1832761360102062', u'name': u'Ayushi Shakya'}, {u'type': u'WOW', u'id': u'1814822068551638', u'name': u'Nikhil Jha'}]\"]\n"
     ]
    },
    {
     "data": {
      "text/plain": [
       "['1488511748129645_1919067208407428',\n",
       " 'new Frank Ocean',\n",
       " 'Siddhant Singh',\n",
       " \"'1988535971173821'\",\n",
       " 'Frank Ocean - Moon River',\n",
       " 'video',\n",
       " 'https://www.youtube.com/watch?v=mXiFHDfvn4A',\n",
       " '2018-02-16 03:33:50',\n",
       " '1',\n",
       " '0',\n",
       " '0',\n",
       " '1',\n",
       " '0',\n",
       " '0',\n",
       " '0',\n",
       " '0',\n",
       " '0',\n",
       " '0',\n",
       " \"[{u'type': u'LIKE', u'id': u'845605628964457', u'name': u'Chandan Suthar'}]\"]"
      ]
     },
     "execution_count": 116,
     "metadata": {},
     "output_type": "execute_result"
    }
   ],
   "source": [
    "print (youtube_data[2])\n",
    "youtube_data[1]"
   ]
  },
  {
   "cell_type": "code",
   "execution_count": 117,
   "metadata": {},
   "outputs": [],
   "source": [
    "# Think of it as new code disjoint from previous one\n",
    "songs_dict = {} # 'video id' -> [[user_id, reaction_type]]\n",
    "unparsed = []\n",
    "for row in youtube_data:\n",
    "    parsed = parse_yt_url(row[6])\n",
    "    if (not parsed == \"-1\"):\n",
    "        try:\n",
    "            songs_dict[parsed].append([str(row[3][1:-1]), 'POST'])\n",
    "            for user in eval(row[-1]):\n",
    "                songs_dict[parsed].append([user['id'], user['type']])\n",
    "        except Exception as e:\n",
    "            songs_dict[parsed] = []\n",
    "            songs_dict[parsed].append([str(row[3][1:-1]), 'POST'])\n",
    "            for user in eval(row[-1]):\n",
    "                songs_dict[parsed].append([user['id'], user['type']])\n",
    "    else:\n",
    "        unparsed.append(row)"
   ]
  },
  {
   "cell_type": "code",
   "execution_count": 118,
   "metadata": {},
   "outputs": [
    {
     "data": {
      "text/plain": [
       "[['2038906389654139', 'POST'],\n",
       " ['579882772353326', 'LOVE'],\n",
       " ['1600809053334804', 'LOVE'],\n",
       " ['1203591703105498', 'LIKE'],\n",
       " ['2043020769244845', 'LOVE'],\n",
       " ['2000116843540042', 'POST'],\n",
       " ['2058593340832566', 'LIKE'],\n",
       " ['588968598108888', 'LIKE'],\n",
       " ['1486387654805028', 'LIKE'],\n",
       " ['1782906748400178', 'LIKE'],\n",
       " ['10209024899378554', 'LIKE'],\n",
       " ['1477100355728943', 'LIKE']]"
      ]
     },
     "execution_count": 118,
     "metadata": {},
     "output_type": "execute_result"
    }
   ],
   "source": [
    "songs_dict[list(songs_dict.keys())[-1]]"
   ]
  },
  {
   "cell_type": "code",
   "execution_count": 119,
   "metadata": {},
   "outputs": [],
   "source": [
    "users = set()\n",
    "for dic in songs_dict:\n",
    "   for val in songs_dict[dic]:\n",
    "      users.add(val[0])"
   ]
  },
  {
   "cell_type": "code",
   "execution_count": 120,
   "metadata": {},
   "outputs": [
    {
     "data": {
      "text/plain": [
       "1549"
      ]
     },
     "execution_count": 120,
     "metadata": {},
     "output_type": "execute_result"
    }
   ],
   "source": [
    "users_list = list(users)\n",
    "len(users_list)"
   ]
  },
  {
   "cell_type": "code",
   "execution_count": 121,
   "metadata": {},
   "outputs": [],
   "source": [
    "songs_list = list(songs_dict.keys())"
   ]
  },
  {
   "cell_type": "code",
   "execution_count": 122,
   "metadata": {},
   "outputs": [
    {
     "data": {
      "text/plain": [
       "[]"
      ]
     },
     "execution_count": 122,
     "metadata": {},
     "output_type": "execute_result"
    }
   ],
   "source": [
    "songs_vec = []\n",
    "songs_vec"
   ]
  },
  {
   "cell_type": "code",
   "execution_count": 123,
   "metadata": {},
   "outputs": [],
   "source": [
    "import numpy as np\n",
    "type_val = {'POST':3, 'LOVE':2, 'ANGRY':-2}\n",
    "for i in range(len(songs_list)):\n",
    "    tmp = [0]*len(users_list)\n",
    "    for user, type_ in songs_dict[songs_list[i]]:\n",
    "        if (type_ in type_val):\n",
    "            tmp[users_list.index(user)] = type_val[type_]\n",
    "        else:\n",
    "            tmp[users_list.index(user)] = 1\n",
    "    songs_vec.append(tmp)"
   ]
  },
  {
   "cell_type": "code",
   "execution_count": 124,
   "metadata": {},
   "outputs": [],
   "source": [
    "def dot(K, L):\n",
    "   if len(K) != len(L):\n",
    "      return 0\n",
    "   return sum(i[0] * i[1] for i in zip(K, L))\n",
    "\n",
    "# from scipy import spatial\n",
    "# def dot(K, L):\n",
    "#    if len(K) != len(L):\n",
    "#       return 0\n",
    "#    return 1 - spatial.distance.cosine(K, L)"
   ]
  },
  {
   "cell_type": "code",
   "execution_count": 125,
   "metadata": {},
   "outputs": [
    {
     "data": {
      "text/plain": [
       "2071"
      ]
     },
     "execution_count": 125,
     "metadata": {},
     "output_type": "execute_result"
    }
   ],
   "source": [
    "songs_list.index('u9Dg-g7t2l4')"
   ]
  },
  {
   "cell_type": "code",
   "execution_count": 126,
   "metadata": {},
   "outputs": [
    {
     "name": "stdout",
     "output_type": "stream",
     "text": [
      "8Pa9x9fZBtY yuFI5KSPAt4 30\n",
      "pBkHHoOIIn8 3mbBbFH9fAg 12\n",
      "Kp7eSUU9oy8 4Js-XbNj6Tk 19\n",
      "u9Dg-g7t2l4 4zLfCnGVeL4 18\n",
      "4Js-XbNj6Tk Kp7eSUU9oy8 19\n",
      "zLAhRiUeJ8E VgwcPiCjQ-0 20\n",
      "4zLfCnGVeL4 ycYewhiaVBk 26\n",
      "adV8-_hgL4g 3mbBbFH9fAg 29\n",
      "msuf-V1inOY xwtdhWltSIg 19\n",
      "fV4DiAyExN0 n1WpP7iowLc 23\n"
     ]
    }
   ],
   "source": [
    "for song in sorted_songs[-10:]:\n",
    "    INDEX = songs_list.index(song[0])\n",
    "    max_song = ''\n",
    "    max_sim = -1\n",
    "    for i in range(len(songs_vec)):\n",
    "        if not i == INDEX:\n",
    "            tmp = dot(songs_vec[i],songs_vec[INDEX])\n",
    "            if(tmp>max_sim):\n",
    "                max_sim = tmp\n",
    "                max_song = i\n",
    "    print (song[0], songs_list[max_song], max_sim)            "
   ]
  },
  {
   "cell_type": "code",
   "execution_count": 127,
   "metadata": {},
   "outputs": [
    {
     "name": "stdout",
     "output_type": "stream",
     "text": [
      "ycYewhiaVBk 4zLfCnGVeL4 26\n"
     ]
    }
   ],
   "source": [
    " "
   ]
  },
  {
   "cell_type": "code",
   "execution_count": 128,
   "metadata": {},
   "outputs": [],
   "source": [
    "import numpy as np\n",
    "songs_vec = np.array(songs_vec)"
   ]
  },
  {
   "cell_type": "code",
   "execution_count": 129,
   "metadata": {},
   "outputs": [
    {
     "data": {
      "text/plain": [
       "(3854, 1549)"
      ]
     },
     "execution_count": 129,
     "metadata": {},
     "output_type": "execute_result"
    }
   ],
   "source": [
    "songs_vec.shape"
   ]
  },
  {
   "cell_type": "code",
   "execution_count": 137,
   "metadata": {},
   "outputs": [
    {
     "name": "stdout",
     "output_type": "stream",
     "text": [
      "2007257082847724 10210714238075480 66\n"
     ]
    }
   ],
   "source": [
    "song = ['ycYewhiaVBk', 42]\n",
    "ID = '2007257082847724'\n",
    "INDEX = users_list.index(ID)\n",
    "max_user = ''\n",
    "max_sim = -1\n",
    "for i in range(songs_vec.shape[1]):\n",
    "    if not i == INDEX:\n",
    "        tmp = dot(songs_vec[:,i],songs_vec[:,INDEX])\n",
    "        if(tmp>max_sim):\n",
    "            max_sim = tmp\n",
    "            max_user = i\n",
    "print (ID, users_list[max_user], max_sim)  "
   ]
  },
  {
   "cell_type": "code",
   "execution_count": 153,
   "metadata": {},
   "outputs": [],
   "source": [
    "def top_N_sim_song(song_id, N):\n",
    "    INDEX = songs_list.index(song_id)\n",
    "    sim_songs = {}\n",
    "    for i in range(len(songs_vec)):\n",
    "        tmp = dot(songs_vec[i],songs_vec[INDEX])\n",
    "        sim_songs[songs_list[i]] = tmp\n",
    "    returned_list = []\n",
    "    count = 0\n",
    "    for w in sorted(sim_songs, key=sim_songs.get, reverse=True):\n",
    "        returned_list.append([w, sim_songs[w]])\n",
    "        count += 1\n",
    "        if (count == N):\n",
    "            break\n",
    "    return returned_list[1:]"
   ]
  },
  {
   "cell_type": "code",
   "execution_count": 154,
   "metadata": {},
   "outputs": [],
   "source": [
    "t = top_N_sim_song('ycYewhiaVBk', 5)"
   ]
  },
  {
   "cell_type": "code",
   "execution_count": 155,
   "metadata": {},
   "outputs": [
    {
     "name": "stdout",
     "output_type": "stream",
     "text": [
      "[['ycYewhiaVBk', 70], ['4zLfCnGVeL4', 26], ['0UHwkfhwjsk', 21], ['BClzBQmZZBc', 17], ['fj-10lIrboM', 17]]\n"
     ]
    }
   ],
   "source": [
    "print (t)"
   ]
  },
  {
   "cell_type": "code",
   "execution_count": null,
   "metadata": {},
   "outputs": [],
   "source": []
  }
 ],
 "metadata": {
  "kernelspec": {
   "display_name": "Python 3",
   "language": "python",
   "name": "python3"
  },
  "language_info": {
   "codemirror_mode": {
    "name": "ipython",
    "version": 3
   },
   "file_extension": ".py",
   "mimetype": "text/x-python",
   "name": "python",
   "nbconvert_exporter": "python",
   "pygments_lexer": "ipython3",
   "version": "3.5.2"
  }
 },
 "nbformat": 4,
 "nbformat_minor": 2
}
