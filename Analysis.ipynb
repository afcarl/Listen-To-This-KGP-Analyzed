{
 "cells": [
  {
   "cell_type": "code",
   "execution_count": 1,
   "metadata": {},
   "outputs": [],
   "source": [
    "import csv\n",
    "file=open(\"1488511748129645_facebook_statuses.csv\", \"r\")\n",
    "reader = csv.reader(file)\n",
    "data = []\n",
    "for line in reader:\n",
    "    data.append(line)\n",
    "\n",
    "header = data[0]\n",
    "data = data[1:]"
   ]
  },
  {
   "cell_type": "code",
   "execution_count": 2,
   "metadata": {},
   "outputs": [
    {
     "name": "stdout",
     "output_type": "stream",
     "text": [
      "327 4486\n"
     ]
    }
   ],
   "source": [
    "to_remove = []\n",
    "for row in data:\n",
    "    if (not 'youtu' in row[6]):\n",
    "        to_remove.append(row)\n",
    "\n",
    "print (len(to_remove), len(data))\n",
    "# print (to_remove)"
   ]
  },
  {
   "cell_type": "code",
   "execution_count": 3,
   "metadata": {},
   "outputs": [
    {
     "data": {
      "text/plain": [
       "4159"
      ]
     },
     "execution_count": 3,
     "metadata": {},
     "output_type": "execute_result"
    }
   ],
   "source": [
    "youtube_data = [a for a in data if a not in to_remove]\n",
    "len(youtube_data)"
   ]
  },
  {
   "cell_type": "code",
   "execution_count": 4,
   "metadata": {},
   "outputs": [],
   "source": [
    "# print (youtube_data)"
   ]
  },
  {
   "cell_type": "code",
   "execution_count": 5,
   "metadata": {},
   "outputs": [],
   "source": [
    "def parse_yt_url(url):\n",
    "    if(\"youtube.com/watch?v\" in url):\n",
    "        return url.split(\"?v=\")[1][:11]\n",
    "    elif(\"youtube.com/attribution_link?\" in url):\n",
    "        return url.split(\"%3D\")[1][:11]\n",
    "    elif(\"v=\" in url):\n",
    "        return url.split(\"v=\")[-1][:11]\n",
    "    elif (\"youtu.be\" in url):\n",
    "        return url.split(\"/\")[-1][:11]\n",
    "    else:\n",
    "        return \"-1\""
   ]
  },
  {
   "cell_type": "code",
   "execution_count": 6,
   "metadata": {},
   "outputs": [],
   "source": [
    "songs_dict = {}\n",
    "unparsed = []\n",
    "for row in youtube_data:\n",
    "    parsed = parse_yt_url(row[6])\n",
    "    if (not parsed == \"-1\"):\n",
    "        try:\n",
    "            songs_dict[parsed] += 1\n",
    "        except Exception as e:\n",
    "            songs_dict[parsed] = 1\n",
    "    else:\n",
    "        unparsed.append(row)"
   ]
  },
  {
   "cell_type": "code",
   "execution_count": 7,
   "metadata": {},
   "outputs": [
    {
     "data": {
      "text/plain": [
       "3757"
      ]
     },
     "execution_count": 7,
     "metadata": {},
     "output_type": "execute_result"
    }
   ],
   "source": [
    "len(songs_dict)"
   ]
  },
  {
   "cell_type": "code",
   "execution_count": 8,
   "metadata": {},
   "outputs": [
    {
     "data": {
      "text/plain": [
       "18"
      ]
     },
     "execution_count": 8,
     "metadata": {},
     "output_type": "execute_result"
    }
   ],
   "source": [
    "len(unparsed)"
   ]
  },
  {
   "cell_type": "code",
   "execution_count": 9,
   "metadata": {},
   "outputs": [
    {
     "data": {
      "text/plain": [
       "4159"
      ]
     },
     "execution_count": 9,
     "metadata": {},
     "output_type": "execute_result"
    }
   ],
   "source": [
    "len(youtube_data)"
   ]
  },
  {
   "cell_type": "code",
   "execution_count": 10,
   "metadata": {},
   "outputs": [],
   "source": [
    "import operator\n",
    "sorted_songs = sorted(songs_dict.items(), key=operator.itemgetter(1))"
   ]
  },
  {
   "cell_type": "code",
   "execution_count": 11,
   "metadata": {},
   "outputs": [
    {
     "name": "stdout",
     "output_type": "stream",
     "text": [
      "www.youtube.com/watch?v=fV4DiAyExN0   7\n",
      "www.youtube.com/watch?v=4zLfCnGVeL4   5\n",
      "www.youtube.com/watch?v=adV8-_hgL4g   5\n",
      "www.youtube.com/watch?v=8Pa9x9fZBtY   4\n",
      "www.youtube.com/watch?v=u9Dg-g7t2l4   4\n",
      "www.youtube.com/watch?v=msuf-V1inOY   4\n",
      "www.youtube.com/watch?v=pBkHHoOIIn8   4\n",
      "www.youtube.com/watch?v=4Js-XbNj6Tk   4\n",
      "www.youtube.com/watch?v=zLAhRiUeJ8E   4\n",
      "www.youtube.com/watch?v=NmfzWpp0hMc   3\n"
     ]
    }
   ],
   "source": [
    "for song in reversed(sorted_songs[-10:]):\n",
    "    print (\"www.youtube.com/watch?v=\" + str(song[0]), \" \", song[1])"
   ]
  },
  {
   "cell_type": "code",
   "execution_count": 39,
   "metadata": {},
   "outputs": [],
   "source": [
    "\n",
    "for row in youtube_data:\n",
    "    break"
   ]
  },
  {
   "cell_type": "code",
   "execution_count": 118,
   "metadata": {},
   "outputs": [
    {
     "data": {
      "text/plain": [
       "[('NmfzWpp0hMc', 3),\n",
       " ('zLAhRiUeJ8E', 4),\n",
       " ('4Js-XbNj6Tk', 4),\n",
       " ('pBkHHoOIIn8', 4),\n",
       " ('msuf-V1inOY', 4),\n",
       " ('u9Dg-g7t2l4', 4),\n",
       " ('8Pa9x9fZBtY', 4),\n",
       " ('adV8-_hgL4g', 5),\n",
       " ('4zLfCnGVeL4', 5),\n",
       " ('fV4DiAyExN0', 7)]"
      ]
     },
     "execution_count": 118,
     "metadata": {},
     "output_type": "execute_result"
    }
   ],
   "source": [
    "sorted_songs[-10:]"
   ]
  },
  {
   "cell_type": "code",
   "execution_count": 45,
   "metadata": {},
   "outputs": [
    {
     "name": "stdout",
     "output_type": "stream",
     "text": [
      "10204632030676944\n"
     ]
    },
    {
     "data": {
      "text/plain": [
       "[{'id': '10215350530093732', 'name': 'Akshay Sahu', 'type': 'LIKE'},\n",
       " {'id': '1936994299962935', 'name': 'Anshul Roy', 'type': 'LOVE'},\n",
       " {'id': '576566076017399', 'name': 'Debajyoti Halder', 'type': 'LOVE'},\n",
       " {'id': '621039478228013', 'name': 'Yudhajit Ray', 'type': 'LOVE'},\n",
       " {'id': '400009190441600', 'name': 'Divyanshu Minz', 'type': 'LOVE'},\n",
       " {'id': '1998916247095794', 'name': 'Ishaan Kapoor', 'type': 'LOVE'},\n",
       " {'id': '1650765198304268', 'name': 'Apoorv Sahu', 'type': 'LIKE'},\n",
       " {'id': '1963706333956065', 'name': 'Jassi Pinkman', 'type': 'LIKE'},\n",
       " {'id': '401653293612898', 'name': 'Soumya Yadav', 'type': 'LOVE'},\n",
       " {'id': '1832112316862933', 'name': 'Kritwish Mondal', 'type': 'LOVE'},\n",
       " {'id': '1772536789444003', 'name': 'Sarthak Jain', 'type': 'LIKE'},\n",
       " {'id': '1506280689421924', 'name': 'Shubham Kumar', 'type': 'LOVE'},\n",
       " {'id': '1973897855984448', 'name': 'Suprabhat Tripathi', 'type': 'LIKE'},\n",
       " {'id': '1837780652963756', 'name': 'Abhinav Bhardwaj', 'type': 'LIKE'},\n",
       " {'id': '1704320556292779', 'name': 'Arghya Mukherjee', 'type': 'LOVE'},\n",
       " {'id': '1536998746425561', 'name': 'Himalay DDas', 'type': 'LOVE'},\n",
       " {'id': '10204632030676944', 'name': 'Aaradhya Sawant', 'type': 'LIKE'},\n",
       " {'id': '1900188706690020', 'name': 'Arnab Biswas', 'type': 'LOVE'},\n",
       " {'id': '1985794968410467', 'name': 'Swastik Haldar', 'type': 'LIKE'},\n",
       " {'id': '405877346514922', 'name': 'Rahul Sharma', 'type': 'LOVE'},\n",
       " {'id': '1988336811429171', 'name': 'Kaustubh Hiware', 'type': 'LIKE'}]"
      ]
     },
     "execution_count": 45,
     "metadata": {},
     "output_type": "execute_result"
    }
   ],
   "source": [
    "print (row[3])\n",
    "eval(row[-1])"
   ]
  },
  {
   "cell_type": "code",
   "execution_count": 131,
   "metadata": {},
   "outputs": [],
   "source": [
    "songs_dict = {}\n",
    "unparsed = []\n",
    "for row in youtube_data:\n",
    "    parsed = parse_yt_url(row[6])\n",
    "    if (not parsed == \"-1\"):\n",
    "        try:\n",
    "            songs_dict[parsed].append([str(row[3]), 'POST'])\n",
    "            for user in eval(row[-1]):\n",
    "                songs_dict[parsed].append([user['id'], user['type']])\n",
    "        except Exception as e:\n",
    "            songs_dict[parsed] = []\n",
    "            songs_dict[parsed].append([str(row[3]), 'POST'])\n",
    "            for user in eval(row[-1]):\n",
    "                songs_dict[parsed].append([user['id'], user['type']])\n",
    "    else:\n",
    "        unparsed.append(row)"
   ]
  },
  {
   "cell_type": "code",
   "execution_count": 132,
   "metadata": {},
   "outputs": [
    {
     "data": {
      "text/plain": [
       "[['1538354119605427', 'POST'],\n",
       " ['2002770726642313', 'LIKE'],\n",
       " ['1629749940410913', 'LIKE'],\n",
       " ['10211109054343949', 'LIKE'],\n",
       " ['10212463428034256', 'LIKE'],\n",
       " ['2050651711815372', 'LIKE']]"
      ]
     },
     "execution_count": 132,
     "metadata": {},
     "output_type": "execute_result"
    }
   ],
   "source": [
    "songs_dict[list(songs_dict.keys())[-1]]"
   ]
  },
  {
   "cell_type": "code",
   "execution_count": 133,
   "metadata": {},
   "outputs": [],
   "source": [
    "users = set()\n",
    "for dic in songs_dict:\n",
    "   for val in songs_dict[dic]:\n",
    "      users.add(val[0])"
   ]
  },
  {
   "cell_type": "code",
   "execution_count": 134,
   "metadata": {},
   "outputs": [
    {
     "data": {
      "text/plain": [
       "1531"
      ]
     },
     "execution_count": 134,
     "metadata": {},
     "output_type": "execute_result"
    }
   ],
   "source": [
    "users_list = list(users)\n",
    "len(users_list)"
   ]
  },
  {
   "cell_type": "code",
   "execution_count": 135,
   "metadata": {},
   "outputs": [],
   "source": [
    "songs_list = list(songs_dict.keys())"
   ]
  },
  {
   "cell_type": "code",
   "execution_count": 136,
   "metadata": {},
   "outputs": [
    {
     "data": {
      "text/plain": [
       "[]"
      ]
     },
     "execution_count": 136,
     "metadata": {},
     "output_type": "execute_result"
    }
   ],
   "source": [
    "songs_vec = []\n",
    "songs_vec"
   ]
  },
  {
   "cell_type": "code",
   "execution_count": 137,
   "metadata": {},
   "outputs": [],
   "source": [
    "import numpy as np\n",
    "type_val = {'POST':3, 'LOVE':2, 'ANGRY':-2}\n",
    "for i in range(len(songs_list)):tmp[users_list.index(user)] = type_val[type_]\n",
    "    tmp = [0]*len(users_list)\n",
    "    for user, type_ in songs_dict[songs_list[i]]:\n",
    "        if (type_ in type_val):\n",
    "            tmp[users_list.index(user)] = type_val[type_]\n",
    "        else:\n",
    "            tmp[users_list.index(user)] = 1\n",
    "    songs_vec.append(tmp)"
   ]
  },
  {
   "cell_type": "code",
   "execution_count": 178,
   "metadata": {},
   "outputs": [],
   "source": [
    "def dot(K, L):\n",
    "   if len(K) != len(L):\n",
    "      return 0\n",
    "   return sum(i[0] * i[1] for i in zip(K, L))\n",
    "\n",
    "# from scipy import spatial\n",
    "# def dot(K, L):\n",
    "#    if len(K) != len(L):\n",
    "#       return 0\n",
    "#    return 1 - spatial.distance.cosine(K, L)"
   ]
  },
  {
   "cell_type": "code",
   "execution_count": 179,
   "metadata": {},
   "outputs": [
    {
     "data": {
      "text/plain": [
       "1177"
      ]
     },
     "execution_count": 179,
     "metadata": {},
     "output_type": "execute_result"
    }
   ],
   "source": [
    "songs_list.index('u9Dg-g7t2l4')"
   ]
  },
  {
   "cell_type": "code",
   "execution_count": 180,
   "metadata": {},
   "outputs": [
    {
     "name": "stdout",
     "output_type": "stream",
     "text": [
      "NmfzWpp0hMc aMorAdnCixg 20\n",
      "zLAhRiUeJ8E VgwcPiCjQ-0 20\n",
      "4Js-XbNj6Tk BxVwLv7NVHg 16\n",
      "pBkHHoOIIn8 3mbBbFH9fAg 12\n",
      "msuf-V1inOY xwtdhWltSIg 19\n",
      "u9Dg-g7t2l4 4zLfCnGVeL4 18\n",
      "8Pa9x9fZBtY yuFI5KSPAt4 30\n",
      "adV8-_hgL4g 3mbBbFH9fAg 29\n",
      "4zLfCnGVeL4 ycYewhiaVBk 26\n",
      "fV4DiAyExN0 n1WpP7iowLc 23\n"
     ]
    }
   ],
   "source": [
    "for song in sorted_songs[-10:]:\n",
    "    INDEX = songs_list.index(song[0])\n",
    "    max_song = ''\n",
    "    max_sim = -1\n",
    "    for i in range(len(songs_vec)):\n",
    "        if not i == INDEX:\n",
    "            tmp = dot(songs_vec[i],songs_vec[INDEX])\n",
    "            if(tmp>max_sim):\n",
    "                max_sim = tmp\n",
    "                max_song = i\n",
    "    print (song[0], songs_list[max_song], max_sim)            "
   ]
  },
  {
   "cell_type": "code",
   "execution_count": 182,
   "metadata": {},
   "outputs": [
    {
     "name": "stdout",
     "output_type": "stream",
     "text": [
      "ycYewhiaVBk 4zLfCnGVeL4 26\n"
     ]
    }
   ],
   "source": [
    "song = ['ycYewhiaVBk', 42]\n",
    "INDEX = songs_list.index(song[0])\n",
    "max_song = ''\n",
    "max_sim = -1\n",
    "for i in range(len(songs_vec)):\n",
    "    if not i == INDEX:\n",
    "        tmp = dot(songs_vec[i],songs_vec[INDEX])\n",
    "        if(tmp>max_sim):\n",
    "            max_sim = tmp\n",
    "            max_song = i\n",
    "print (song[0], songs_list[max_song], max_sim)  "
   ]
  },
  {
   "cell_type": "code",
   "execution_count": null,
   "metadata": {},
   "outputs": [],
   "source": []
  }
 ],
 "metadata": {
  "kernelspec": {
   "display_name": "Python 3",
   "language": "python",
   "name": "python3"
  },
  "language_info": {
   "codemirror_mode": {
    "name": "ipython",
    "version": 3
   },
   "file_extension": ".py",
   "mimetype": "text/x-python",
   "name": "python",
   "nbconvert_exporter": "python",
   "pygments_lexer": "ipython3",
   "version": "3.5.2"
  }
 },
 "nbformat": 4,
 "nbformat_minor": 2
}
